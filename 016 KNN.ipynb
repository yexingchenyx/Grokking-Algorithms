{
    "cells": [
        {
            "cell_type": "code",
            "execution_count": 50,
            "source": [
                "import numpy as np\n",
                "import numpy.random as random"
            ],
            "outputs": [],
            "metadata": {}
        },
        {
            "cell_type": "code",
            "execution_count": 51,
            "source": [
                "class Rate:\n",
                "    def __init__(self, comedy, action, drama, horror, romance) -> None:\n",
                "        self.comedy = comedy\n",
                "        self.action = action\n",
                "        self.drama = drama\n",
                "        self.horror = horror\n",
                "        self.romance = romance"
            ],
            "outputs": [],
            "metadata": {}
        },
        {
            "cell_type": "code",
            "execution_count": 52,
            "source": [
                "user_rates = {}\n",
                "for ii in range(15):\n",
                "    user_rates[f'user_{ii}'] = Rate(\n",
                "        random.randint(1,6), \n",
                "        random.randint(1,6), \n",
                "        random.randint(1,6), \n",
                "        random.randint(1,6), \n",
                "        random.randint(1,6))\n"
            ],
            "outputs": [],
            "metadata": {}
        },
        {
            "cell_type": "code",
            "execution_count": 53,
            "source": [
                "k = 3\n",
                "user_name = 'user_0'\n",
                "user_rate = user_rates[user_name]\n",
                "\n",
                "user_names = list(user_rates.keys())\n",
                "user_dists = [np.sqrt(\n",
                "    np.square(user_rate.comedy - rate.comedy) + \n",
                "    np.square(user_rate.action - rate.action) + \n",
                "    np.square(user_rate.drama - rate.drama) +\n",
                "    np.square(user_rate.horror - rate.horror) +\n",
                "    np.square(user_rate.romance - rate.romance)) for name, rate in user_rates.items()]"
            ],
            "outputs": [],
            "metadata": {}
        },
        {
            "cell_type": "code",
            "execution_count": 54,
            "source": [
                "sort_idx = np.argsort(user_dists)\n",
                "\n",
                "neighbor_names = [user_names[ii] for ii in sort_idx[1: k + 1]]\n",
                "\n",
                "print(f'{k} nearest neighbors with {user_name}:')\n",
                "for name in neighbor_names:\n",
                "    print(name)"
            ],
            "outputs": [
                {
                    "output_type": "stream",
                    "name": "stdout",
                    "text": [
                        "3 nearest neighbors with user_0:\n",
                        "user_10\n",
                        "user_6\n",
                        "user_7\n"
                    ]
                }
            ],
            "metadata": {}
        },
        {
            "cell_type": "code",
            "execution_count": null,
            "source": [],
            "outputs": [],
            "metadata": {}
        }
    ],
    "metadata": {
        "orig_nbformat": 4,
        "language_info": {
            "name": "python",
            "version": "3.8.8",
            "mimetype": "text/x-python",
            "codemirror_mode": {
                "name": "ipython",
                "version": 3
            },
            "pygments_lexer": "ipython3",
            "nbconvert_exporter": "python",
            "file_extension": ".py"
        },
        "kernelspec": {
            "name": "python3",
            "display_name": "Python 3.8.8 64-bit ('base': conda)"
        },
        "interpreter": {
            "hash": "b64057e63add2b45b1ffc7eab9b09c8889b419c878e2fdf0d08f837f0fc857a7"
        }
    },
    "nbformat": 4,
    "nbformat_minor": 2
}