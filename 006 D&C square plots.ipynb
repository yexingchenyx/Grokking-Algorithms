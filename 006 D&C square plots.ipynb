{
 "metadata": {
  "language_info": {
   "codemirror_mode": {
    "name": "ipython",
    "version": 3
   },
   "file_extension": ".py",
   "mimetype": "text/x-python",
   "name": "python",
   "nbconvert_exporter": "python",
   "pygments_lexer": "ipython3",
   "version": "3.8.8"
  },
  "orig_nbformat": 4,
  "kernelspec": {
   "name": "python3",
   "display_name": "Python 3.8.8 64-bit ('base': conda)"
  },
  "interpreter": {
   "hash": "b64057e63add2b45b1ffc7eab9b09c8889b419c878e2fdf0d08f837f0fc857a7"
  }
 },
 "nbformat": 4,
 "nbformat_minor": 2,
 "cells": [
  {
   "source": [
    "有一个宽为w，高为h的矩形，将其分割成n*n的正方形格子，并使n尽可能的大。"
   ],
   "cell_type": "markdown",
   "metadata": {}
  },
  {
   "cell_type": "code",
   "execution_count": 1,
   "metadata": {},
   "outputs": [],
   "source": [
    "def devide_rect(w: int, h: int) -> int:\n",
    "    max_edge, min_edge = (w, h) if w > h else (h, w)\n",
    "    if max_edge % min_edge == 0:\n",
    "        return min_edge\n",
    "    else:\n",
    "        return devide_rect(max_edge % min_edge, min_edge)\n"
   ]
  },
  {
   "cell_type": "code",
   "execution_count": 2,
   "metadata": {},
   "outputs": [
    {
     "output_type": "stream",
     "name": "stdout",
     "text": [
      "size: 80\n"
     ]
    }
   ],
   "source": [
    "size = devide_rect(400, 640)\n",
    "print(f'size: {size}')"
   ]
  }
 ]
}