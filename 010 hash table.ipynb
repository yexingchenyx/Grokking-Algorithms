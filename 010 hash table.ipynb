{
 "metadata": {
  "language_info": {
   "codemirror_mode": {
    "name": "ipython",
    "version": 3
   },
   "file_extension": ".py",
   "mimetype": "text/x-python",
   "name": "python",
   "nbconvert_exporter": "python",
   "pygments_lexer": "ipython3",
   "version": "3.8.8"
  },
  "orig_nbformat": 4,
  "kernelspec": {
   "name": "python3",
   "display_name": "Python 3.8.8 64-bit ('base': conda)"
  },
  "interpreter": {
   "hash": "b64057e63add2b45b1ffc7eab9b09c8889b419c878e2fdf0d08f837f0fc857a7"
  }
 },
 "nbformat": 4,
 "nbformat_minor": 2,
 "cells": [
  {
   "cell_type": "code",
   "execution_count": 130,
   "metadata": {},
   "outputs": [],
   "source": [
    "class PhoneRecord: # 电话记录\n",
    "    def __init__(self, name, phone):\n",
    "        self.name = name # 人名\n",
    "        self.phone = phone # 电话\n",
    "\n",
    "    def __str__(self):\n",
    "        return f'{self.name}: {self.phone}'"
   ]
  },
  {
   "cell_type": "code",
   "execution_count": 131,
   "metadata": {},
   "outputs": [],
   "source": [
    "class PhoneRecordTable: # 存储电话记录的hash表\n",
    "    def __init__(self):\n",
    "        self._slots = [[] for ii in range(26)] # hash表内部维护的槽\n",
    "\n",
    "    def _hash_func(self, name) -> int: # 将人名映射成一个整数索引，好的hash函数，将不同的输入尽可能映射成不同的值，以减少冲突\n",
    "        return ord(name[0].lower()) - ord('a')\n",
    "\n",
    "    def add(self, record: PhoneRecord): # 添加条目\n",
    "        slot_idx = self._hash_func(record.name)\n",
    "        self._slots[slot_idx].append(record)\n",
    "\n",
    "    def get(self, name):\n",
    "        slot_idx = self._hash_func(name) # 获取条目\n",
    "        return [item for item in self._slots[slot_idx] if item.name == name][0]\n",
    "\n",
    "    def load_factor(self) -> float: # items数与slots数的比值，越小越好，大于0.7时，考虑将slots扩容（扩容后重新填入条目）\n",
    "        total_items = 0.0\n",
    "        for slot in self._slots:\n",
    "            total_items += len(slot)\n",
    "        return total_items / len(slots)"
   ]
  },
  {
   "cell_type": "code",
   "execution_count": 132,
   "metadata": {},
   "outputs": [],
   "source": [
    "table = PhoneRecordTable()\n",
    "\n",
    "table.add(PhoneRecord('Tom', '12345678'))\n",
    "table.add(PhoneRecord('John', '23476545'))\n",
    "table.add(PhoneRecord('Tonny', '63422093'))"
   ]
  },
  {
   "cell_type": "code",
   "execution_count": 133,
   "metadata": {},
   "outputs": [
    {
     "output_type": "stream",
     "name": "stdout",
     "text": [
      "Tom: 12345678\nJohn: 23476545\nTonny: 63422093\n"
     ]
    }
   ],
   "source": [
    "print(table.get('Tom'))\n",
    "print(table.get('John'))\n",
    "print(table.get('Tonny'))"
   ]
  },
  {
   "cell_type": "code",
   "execution_count": 134,
   "metadata": {},
   "outputs": [
    {
     "output_type": "stream",
     "name": "stdout",
     "text": [
      "load factor: 0.03\n"
     ]
    }
   ],
   "source": [
    "print(f'load factor: {table.load_factor()}')"
   ]
  }
 ]
}