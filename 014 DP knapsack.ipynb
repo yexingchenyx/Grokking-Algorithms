{
 "metadata": {
  "language_info": {
   "codemirror_mode": {
    "name": "ipython",
    "version": 3
   },
   "file_extension": ".py",
   "mimetype": "text/x-python",
   "name": "python",
   "nbconvert_exporter": "python",
   "pygments_lexer": "ipython3",
   "version": "3.8.8"
  },
  "orig_nbformat": 4,
  "kernelspec": {
   "name": "python3",
   "display_name": "Python 3.8.8 64-bit ('base': conda)"
  },
  "interpreter": {
   "hash": "b64057e63add2b45b1ffc7eab9b09c8889b419c878e2fdf0d08f837f0fc857a7"
  }
 },
 "nbformat": 4,
 "nbformat_minor": 2,
 "cells": [
  {
   "cell_type": "code",
   "execution_count": 214,
   "source": [
    "import numpy as np\n",
    "\n",
    "class Item:\n",
    "    def __init__(self, name: str, worth: float, weight: int) -> None:\n",
    "        self.name = name\n",
    "        self.worth = worth\n",
    "        self.weight = weight\n"
   ],
   "outputs": [],
   "metadata": {}
  },
  {
   "cell_type": "code",
   "execution_count": 215,
   "source": [
    "stereo = Item('stereo', 3000, 4)\n",
    "laptop = Item('laptop', 2000, 3)\n",
    "guitar = Item('guitar', 1500, 1)\n",
    "iphone = Item('iphone', 2000, 1)\n",
    "\n",
    "goods = {stereo, laptop, guitar, iphone}\n",
    "\n",
    "knapsack_capacity: int = 4"
   ],
   "outputs": [],
   "metadata": {}
  },
  {
   "cell_type": "code",
   "execution_count": 216,
   "source": [
    "last_capacity_goods_dict = dict()\n",
    "for capacity in range(1, knapsack_capacity + 1):\n",
    "    last_capacity_goods_dict[capacity] = set()\n",
    "\n",
    "for good in goods:\n",
    "    current_capacity_goods_dict = dict()\n",
    "    for capacity in range(1, knapsack_capacity + 1):\n",
    "        last_capacity_goods = last_capacity_goods_dict[capacity]\n",
    "        last_capacity_goods_worth = np.sum([good.worth for good in last_capacity_goods])\n",
    "        last_capacity_goods_weight = np.sum([good.weight for good in last_capacity_goods])\n",
    "        current_capacity_goods = set()\n",
    "        if good.weight > capacity:\n",
    "            current_capacity_goods = last_capacity_goods\n",
    "        elif good.weight <= capacity - last_capacity_goods_weight:\n",
    "            current_capacity_goods = set(list(last_capacity_goods) + [good])\n",
    "        else:\n",
    "            last_remain_capacity_goods = set()\n",
    "            last_remain_capacity_goods_worth = 0\n",
    "            remain_capacity = capacity - good.weight\n",
    "            if remain_capacity > 0:\n",
    "                last_remain_capacity_goods = last_capacity_goods_dict[remain_capacity]\n",
    "                last_remain_capacity_goods_worth = np.sum([good.worth for good in last_remain_capacity_goods])\n",
    "            if last_remain_capacity_goods_worth + good.worth > last_capacity_goods_worth:\n",
    "                current_capacity_goods = set(list(last_remain_capacity_goods) + [good])\n",
    "            else:\n",
    "                current_capacity_goods = last_capacity_goods\n",
    "        current_capacity_goods_dict[capacity] = current_capacity_goods\n",
    "    last_capacity_goods_dict = current_capacity_goods_dict\n",
    "\n",
    "picked_goods = last_capacity_goods_dict[knapsack_capacity]\n",
    "print(f'solution for capacity {knapsack_capacity}:\\n {[good.name for good in picked_goods]}')\n",
    "\n",
    "\n"
   ],
   "outputs": [
    {
     "output_type": "stream",
     "name": "stdout",
     "text": [
      "solution for capacity 4:\n",
      " ['laptop', 'iphone']\n"
     ]
    }
   ],
   "metadata": {}
  }
 ]
}