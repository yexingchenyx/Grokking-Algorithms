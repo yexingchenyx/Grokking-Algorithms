{
 "metadata": {
  "language_info": {
   "codemirror_mode": {
    "name": "ipython",
    "version": 3
   },
   "file_extension": ".py",
   "mimetype": "text/x-python",
   "name": "python",
   "nbconvert_exporter": "python",
   "pygments_lexer": "ipython3",
   "version": "3.8.8"
  },
  "orig_nbformat": 4,
  "kernelspec": {
   "name": "python3",
   "display_name": "Python 3.8.8 64-bit ('base': conda)"
  },
  "interpreter": {
   "hash": "b64057e63add2b45b1ffc7eab9b09c8889b419c878e2fdf0d08f837f0fc857a7"
  }
 },
 "nbformat": 4,
 "nbformat_minor": 2,
 "cells": [
  {
   "cell_type": "code",
   "execution_count": 21,
   "metadata": {},
   "outputs": [
    {
     "output_type": "stream",
     "name": "stdout",
     "text": [
      "input: [29, 57, 21, 65, 6, 80, 98, 62, 77, 35, 48, 72, 67, 47, 40, 55, 55, 62, 59, 39, 66, 25, 15, 17, 28, 69, 71, 54, 79, 75, 79, 76, 87, 63, 31, 79, 54, 98, 2, 45, 54, 49, 82, 65, 24, 50, 9, 62, 98, 51, 36, 88, 46, 27, 41, 81, 80, 83, 45, 88, 46, 76, 98, 25, 9, 89, 36, 70, 92, 27, 22, 62, 13, 38, 48, 2, 83, 79, 75, 84, 82, 40, 42, 59, 4, 12, 3, 78, 15, 3, 82, 72, 31, 2, 38, 53, 0, 81, 92, 60]\n"
     ]
    }
   ],
   "source": [
    "import numpy as np\n",
    "\n",
    "arr = list(np.random.randint(0, 100, 100))\n",
    "\n",
    "print(f'input: {arr}')"
   ]
  },
  {
   "cell_type": "code",
   "execution_count": 22,
   "metadata": {},
   "outputs": [],
   "source": [
    "def find_smallest(arr):\n",
    "    smallest_index = 0\n",
    "    smallest = arr[smallest_index]\n",
    "    for ii, val in enumerate(arr):\n",
    "        if val < smallest:\n",
    "            smallest_index = ii\n",
    "            smallest = val\n",
    "    return smallest_index"
   ]
  },
  {
   "cell_type": "code",
   "execution_count": 23,
   "metadata": {},
   "outputs": [],
   "source": [
    "def selection_sort(arr):\n",
    "    new_arr = []\n",
    "    for ii in range(len(arr)):\n",
    "        smallest_index = find_smallest(arr)\n",
    "        new_arr.append(arr.pop(smallest_index))\n",
    "    return new_arr\n"
   ]
  },
  {
   "cell_type": "code",
   "execution_count": 24,
   "metadata": {},
   "outputs": [
    {
     "output_type": "stream",
     "name": "stdout",
     "text": [
      "output: [0, 2, 2, 2, 3, 3, 4, 6, 9, 9, 12, 13, 15, 15, 17, 21, 22, 24, 25, 25, 27, 27, 28, 29, 31, 31, 35, 36, 36, 38, 38, 39, 40, 40, 41, 42, 45, 45, 46, 46, 47, 48, 48, 49, 50, 51, 53, 54, 54, 54, 55, 55, 57, 59, 59, 60, 62, 62, 62, 62, 63, 65, 65, 66, 67, 69, 70, 71, 72, 72, 75, 75, 76, 76, 77, 78, 79, 79, 79, 79, 80, 80, 81, 81, 82, 82, 82, 83, 83, 84, 87, 88, 88, 89, 92, 92, 98, 98, 98, 98]\n"
     ]
    }
   ],
   "source": [
    "output = selection_sort(arr)\n",
    "print(f'output: {output}')"
   ]
  },
  {
   "cell_type": "code",
   "execution_count": null,
   "metadata": {},
   "outputs": [],
   "source": []
  }
 ]
}