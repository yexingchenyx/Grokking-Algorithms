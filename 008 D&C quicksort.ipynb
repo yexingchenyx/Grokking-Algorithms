{
 "metadata": {
  "language_info": {
   "codemirror_mode": {
    "name": "ipython",
    "version": 3
   },
   "file_extension": ".py",
   "mimetype": "text/x-python",
   "name": "python",
   "nbconvert_exporter": "python",
   "pygments_lexer": "ipython3",
   "version": "3.8.8"
  },
  "orig_nbformat": 4,
  "kernelspec": {
   "name": "python3",
   "display_name": "Python 3.8.8 64-bit ('base': conda)"
  },
  "interpreter": {
   "hash": "b64057e63add2b45b1ffc7eab9b09c8889b419c878e2fdf0d08f837f0fc857a7"
  }
 },
 "nbformat": 4,
 "nbformat_minor": 2,
 "cells": [
  {
   "cell_type": "code",
   "execution_count": 21,
   "metadata": {},
   "outputs": [
    {
     "output_type": "stream",
     "name": "stdout",
     "text": [
      "input: [11 11 74 71 85  1 19 61 56 90 84 86 89 32 97 92 71 64 74 56 46 53 40 17\n 53 94 55 36 50 97 21 49 57 51 84 44 40  0 86 65 97 71 55 84 66 79  0 98\n 38 16 27 59 96 13  1  0 20 54 19 33 84 25 54 88 23 85 34 52 59 80 56  9\n  8 29 78 67 90 61  5  2 50 82 37 28 48 88 61  2 52 41 55 79  8 61  3 53\n 70 43 40 86]\n"
     ]
    }
   ],
   "source": [
    "import numpy as np\n",
    "\n",
    "arr = np.random.randint(0, 100, 100)\n",
    "\n",
    "print(f'input: {arr}')"
   ]
  },
  {
   "cell_type": "code",
   "execution_count": 22,
   "metadata": {},
   "outputs": [],
   "source": [
    "def quicksort(arr):\n",
    "    if len(arr) <= 1:\n",
    "        return arr\n",
    "    else:\n",
    "        pivot = arr[0]\n",
    "        less = [val for val in arr[1:] if val <= pivot]\n",
    "        greater = [val for val in arr[1:] if val > pivot]\n",
    "        return quicksort(less) + [pivot] + quicksort(greater)"
   ]
  },
  {
   "cell_type": "code",
   "execution_count": 23,
   "metadata": {},
   "outputs": [
    {
     "output_type": "stream",
     "name": "stdout",
     "text": [
      "output: [0, 0, 0, 1, 1, 2, 2, 3, 5, 8, 8, 9, 11, 11, 13, 16, 17, 19, 19, 20, 21, 23, 25, 27, 28, 29, 32, 33, 34, 36, 37, 38, 40, 40, 40, 41, 43, 44, 46, 48, 49, 50, 50, 51, 52, 52, 53, 53, 53, 54, 54, 55, 55, 55, 56, 56, 56, 57, 59, 59, 61, 61, 61, 61, 64, 65, 66, 67, 70, 71, 71, 71, 74, 74, 78, 79, 79, 80, 82, 84, 84, 84, 84, 85, 85, 86, 86, 86, 88, 88, 89, 90, 90, 92, 94, 96, 97, 97, 97, 98]\n"
     ]
    }
   ],
   "source": [
    "output = quicksort(arr)\n",
    "\n",
    "print(f'output: {output}')"
   ]
  },
  {
   "cell_type": "code",
   "execution_count": null,
   "metadata": {},
   "outputs": [],
   "source": []
  }
 ]
}