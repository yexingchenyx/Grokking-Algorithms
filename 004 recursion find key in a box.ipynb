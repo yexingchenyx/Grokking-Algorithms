{
 "metadata": {
  "language_info": {
   "codemirror_mode": {
    "name": "ipython",
    "version": 3
   },
   "file_extension": ".py",
   "mimetype": "text/x-python",
   "name": "python",
   "nbconvert_exporter": "python",
   "pygments_lexer": "ipython3",
   "version": "3.8.8"
  },
  "orig_nbformat": 4,
  "kernelspec": {
   "name": "python3",
   "display_name": "Python 3.8.8 64-bit ('base': conda)"
  },
  "interpreter": {
   "hash": "b64057e63add2b45b1ffc7eab9b09c8889b419c878e2fdf0d08f837f0fc857a7"
  }
 },
 "nbformat": 4,
 "nbformat_minor": 2,
 "cells": [
  {
   "cell_type": "code",
   "execution_count": 29,
   "metadata": {},
   "outputs": [],
   "source": [
    "class Box:\n",
    "    def __init__(self, name):\n",
    "        self.name = name\n",
    "        self.items = []\n",
    "\n",
    "class Key:\n",
    "    pass\n",
    "\n",
    "box = Box('A')\n",
    "box.items = [Box('B'), Box('C'), Box('D')]\n",
    "box.items[0].items = [Box('E'), Box('F')]\n",
    "box.items[0].items[1].items = [Box('G'), Key()]"
   ]
  },
  {
   "cell_type": "code",
   "execution_count": 30,
   "metadata": {},
   "outputs": [],
   "source": [
    "def look_for_key_with_pile(box):\n",
    "    pile = [box]\n",
    "    while len(pile) != 0:\n",
    "        a_box = pile.pop()\n",
    "        for item in a_box.items:\n",
    "            if isinstance(item, Box):\n",
    "                pile.append(item)\n",
    "            elif isinstance(item, Key):\n",
    "                print(f'find the key in {a_box.name} (with pile)')\n",
    "                return"
   ]
  },
  {
   "cell_type": "code",
   "execution_count": 31,
   "metadata": {},
   "outputs": [
    {
     "output_type": "stream",
     "name": "stdout",
     "text": [
      "find the key in F (with pile)\n"
     ]
    }
   ],
   "source": [
    "look_for_key_with_pile(box)"
   ]
  },
  {
   "cell_type": "code",
   "execution_count": 32,
   "metadata": {},
   "outputs": [],
   "source": [
    "def look_for_key_with_recursion(box):\n",
    "    for item in box.items:\n",
    "        if isinstance(item, Box):\n",
    "            look_for_key_with_recursion(item)\n",
    "        elif isinstance(item, Key):\n",
    "            print(f'find the key in {box.name} (with recursion)')\n",
    "            return"
   ]
  },
  {
   "cell_type": "code",
   "execution_count": 33,
   "metadata": {},
   "outputs": [
    {
     "output_type": "stream",
     "name": "stdout",
     "text": [
      "find the key in F (with recursion)\n"
     ]
    }
   ],
   "source": [
    "look_for_key_with_recursion(box)"
   ]
  }
 ]
}