{
 "metadata": {
  "language_info": {
   "codemirror_mode": {
    "name": "ipython",
    "version": 3
   },
   "file_extension": ".py",
   "mimetype": "text/x-python",
   "name": "python",
   "nbconvert_exporter": "python",
   "pygments_lexer": "ipython3",
   "version": "3.8.8"
  },
  "orig_nbformat": 4,
  "kernelspec": {
   "name": "python3",
   "display_name": "Python 3.8.8 64-bit ('base': conda)"
  },
  "interpreter": {
   "hash": "b64057e63add2b45b1ffc7eab9b09c8889b419c878e2fdf0d08f837f0fc857a7"
  }
 },
 "nbformat": 4,
 "nbformat_minor": 2,
 "cells": [
  {
   "source": [
    "寻找最快路径，Dijkstra需保证权重都为正值"
   ],
   "cell_type": "markdown",
   "metadata": {}
  },
  {
   "cell_type": "code",
   "execution_count": 77,
   "metadata": {},
   "outputs": [],
   "source": [
    "graph = {}\n",
    "\n",
    "graph['start'] = {}\n",
    "graph['start']['A'] = 6\n",
    "graph['start']['B'] = 2\n",
    "\n",
    "graph['A'] = {}\n",
    "graph['A']['finish'] = 1\n",
    "\n",
    "graph['B'] = {}\n",
    "graph['B']['A'] = 3\n",
    "graph['B']['finish'] = 5\n",
    "\n",
    "graph['finish'] = {}"
   ]
  },
  {
   "cell_type": "code",
   "execution_count": 78,
   "metadata": {},
   "outputs": [],
   "source": [
    "import numpy as np\n",
    "\n",
    "costs = {} # 记录到每个节点的最短距离\n",
    "costs['A'] = graph['start']['A'] # 初始化start的邻节点\n",
    "costs['B'] = graph['start']['B']\n",
    "costs['finish'] = np.Inf # 其余点还未遍历到，置INF"
   ]
  },
  {
   "cell_type": "code",
   "execution_count": 79,
   "metadata": {},
   "outputs": [],
   "source": [
    "parents = {} # 记录到每个节点的父节点\n",
    "parents['A'] = 'start'\n",
    "parents['B'] = 'start'\n",
    "parents['finish'] = None"
   ]
  },
  {
   "cell_type": "code",
   "execution_count": 80,
   "metadata": {},
   "outputs": [],
   "source": [
    "processed = [] # 记录已经处理的节点"
   ]
  },
  {
   "cell_type": "code",
   "execution_count": 81,
   "metadata": {},
   "outputs": [],
   "source": [
    "def find_lowest_cost_unprocessed_node():\n",
    "    lowest_cost = np.Inf\n",
    "    lowest_cost_node = None\n",
    "    for node, cost in costs.items():\n",
    "        if node not in processed and cost < lowest_cost:\n",
    "            lowest_cost = cost\n",
    "            lowest_cost_node = node\n",
    "    return lowest_cost_node\n",
    "            "
   ]
  },
  {
   "cell_type": "code",
   "execution_count": 82,
   "metadata": {},
   "outputs": [],
   "source": [
    "node = find_lowest_cost_unprocessed_node()\n",
    "while node is not None:\n",
    "    node_cost = costs[node]\n",
    "    for neighbor_node, neighbor_weight in graph[node].items():\n",
    "        neighbor_cost = node_cost + neighbor_weight\n",
    "        if neighbor_cost < costs[neighbor_node]: # 小于现在的距离，则更新\n",
    "            costs[neighbor_node] = neighbor_cost\n",
    "            parents[neighbor_node] = node\n",
    "    processed.append(node) # 标记此节点已经处理\n",
    "    node = find_lowest_cost_unprocessed_node() # 拿出下一个待处理的节点"
   ]
  },
  {
   "cell_type": "code",
   "execution_count": 83,
   "metadata": {},
   "outputs": [
    {
     "output_type": "stream",
     "name": "stdout",
     "text": [
      "fastest path from start to finish: 6\nstart --> B --> A --> finish\n"
     ]
    }
   ],
   "source": [
    "finish_cost = costs['finish']\n",
    "print(f'fastest path from start to finish: {finish_cost}')\n",
    "path = ['finish']\n",
    "while (path[-1] != 'start'):\n",
    "    path.append(parents[path[-1]])\n",
    "path = path[::-1]\n",
    "print(' --> '.join(path))"
   ]
  },
  {
   "cell_type": "code",
   "execution_count": null,
   "metadata": {},
   "outputs": [],
   "source": []
  }
 ]
}