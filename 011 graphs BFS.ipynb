{
 "metadata": {
  "language_info": {
   "codemirror_mode": {
    "name": "ipython",
    "version": 3
   },
   "file_extension": ".py",
   "mimetype": "text/x-python",
   "name": "python",
   "nbconvert_exporter": "python",
   "pygments_lexer": "ipython3",
   "version": "3.8.8"
  },
  "orig_nbformat": 4,
  "kernelspec": {
   "name": "python3",
   "display_name": "Python 3.8.8 64-bit ('base': conda)"
  },
  "interpreter": {
   "hash": "b64057e63add2b45b1ffc7eab9b09c8889b419c878e2fdf0d08f837f0fc857a7"
  }
 },
 "nbformat": 4,
 "nbformat_minor": 2,
 "cells": [
  {
   "source": [
    "# 图(graph)\n",
    "Graphs are made up of nodes and edges. A node can be directly connected to many other nodes. Those nodes are called its neighbors.\n",
    "# 广度优先搜索 Breadth-firsh search(BFS)\n",
    "所谓广度优先就是从某一节点开始，先遍历它的全部距离为1的邻节点，再遍历全部距离为2的邻节点，依次类推。运用队列，队列是先进先出（FIFO）的数据结构。\n",
    "\n",
    "可以解决的问题:\n",
    "\n",
    "1. 是否有路径从node A到node B\n",
    "2. 从node A到node B的最短路径"
   ],
   "cell_type": "markdown",
   "metadata": {}
  },
  {
   "cell_type": "code",
   "execution_count": 34,
   "metadata": {},
   "outputs": [],
   "source": [
    "graph = {}\n",
    "\n",
    "# first degree\n",
    "graph['you'] = ['alice', 'bob', 'claire']\n",
    "\n",
    "# second degree\n",
    "graph['alice'] = ['peggy']\n",
    "graph['bob'] = ['anuj', 'peggy']\n",
    "graph['claire'] = ['thom', 'jonny']\n",
    "\n",
    "# third degree\n",
    "graph['peggy'] = []\n",
    "graph['anuj'] = []\n",
    "graph['thom'] = []\n",
    "graph['jonny'] = []"
   ]
  },
  {
   "cell_type": "code",
   "execution_count": 35,
   "metadata": {},
   "outputs": [],
   "source": [
    "from collections import deque\n",
    "\n",
    "# 从'you'节点开始找到第一个含有sub的节点\n",
    "def search(sub) -> name:\n",
    "    search_queue = deque() # 创建一个队列\n",
    "    search_queue += graph['you'] # 将起始节点的1-degree节点放入队列\n",
    "    searched = [] # 已经搜索过的节点\n",
    "\n",
    "    while (len(search_queue) != 0): # 队列中还有节点则继续\n",
    "        person = search_queue.popleft() # 从队列中取出一个节点\n",
    "        if person not in searched: # 跳过已经搜索过的节点\n",
    "            if sub in person:\n",
    "                return person\n",
    "            else:\n",
    "                search_queue += graph[person] # 将当前节点的1-degree节点放入队列\n",
    "            searched.append(person) # 将当前节点标记为已经搜素\n",
    "    return None\n"
   ]
  },
  {
   "cell_type": "code",
   "execution_count": 36,
   "metadata": {},
   "outputs": [
    {
     "output_type": "stream",
     "name": "stdout",
     "text": [
      "the first name contains 'a': alice\nthe first name contains 'abc': None\n"
     ]
    }
   ],
   "source": [
    "sub = 'a'\n",
    "print(f'the first name contains \\'{sub}\\': {search(sub)}')\n",
    "\n",
    "sub = 'abc'\n",
    "print(f'the first name contains \\'{sub}\\': {search(sub)}')"
   ]
  },
  {
   "cell_type": "code",
   "execution_count": null,
   "metadata": {},
   "outputs": [],
   "source": []
  }
 ]
}