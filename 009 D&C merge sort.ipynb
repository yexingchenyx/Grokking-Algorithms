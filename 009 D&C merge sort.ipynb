{
 "metadata": {
  "language_info": {
   "codemirror_mode": {
    "name": "ipython",
    "version": 3
   },
   "file_extension": ".py",
   "mimetype": "text/x-python",
   "name": "python",
   "nbconvert_exporter": "python",
   "pygments_lexer": "ipython3",
   "version": "3.8.8"
  },
  "orig_nbformat": 4,
  "kernelspec": {
   "name": "python3",
   "display_name": "Python 3.8.8 64-bit ('base': conda)"
  },
  "interpreter": {
   "hash": "b64057e63add2b45b1ffc7eab9b09c8889b419c878e2fdf0d08f837f0fc857a7"
  }
 },
 "nbformat": 4,
 "nbformat_minor": 2,
 "cells": [
  {
   "cell_type": "code",
   "execution_count": 36,
   "metadata": {},
   "outputs": [
    {
     "output_type": "stream",
     "name": "stdout",
     "text": [
      "input: [54, 35, 91, 34, 18, 63, 68, 16, 36, 58, 38, 70, 85, 89, 47, 80, 50, 34, 97, 90, 51, 1, 68, 46, 58, 42, 71, 23, 58, 43, 41, 84, 28, 72, 27, 15, 61, 32, 82, 74, 84, 96, 9, 94, 73, 72, 64, 52, 58, 18, 99, 60, 67, 24, 53, 26, 41, 19, 98, 90, 19, 0, 48, 95, 9, 53, 58, 33, 69, 46, 60, 98, 31, 46, 14, 1, 7, 91, 30, 50, 87, 86, 68, 62, 33, 67, 90, 2, 99, 93, 79, 84, 16, 86, 74, 85, 5, 19, 88, 20]\n"
     ]
    }
   ],
   "source": [
    "import numpy as np\n",
    "\n",
    "arr = list(np.random.randint(0, 100, 100))\n",
    "\n",
    "print(f'input: {arr}')"
   ]
  },
  {
   "cell_type": "code",
   "execution_count": 37,
   "metadata": {},
   "outputs": [],
   "source": [
    "def merge(arr: list, start: int, mid: int, end: int):\n",
    "    # 将arr[start: mid]与arr[mid: end]合并\n",
    "    # 合并到原arr中\n",
    "    copy = arr.copy()\n",
    "    ii, jj = start, mid # 双索引分别指向两部分的当前位置\n",
    "    for kk in range(start, end): # 当前要更新的位置\n",
    "        if ii != mid and jj != end:\n",
    "            if copy[ii] <= copy[jj]:\n",
    "                arr[kk] = copy[ii]\n",
    "                ii += 1\n",
    "            else:\n",
    "                arr[kk] = copy[jj]\n",
    "                jj += 1\n",
    "        elif ii == mid and jj != end:\n",
    "            arr[kk] = copy[jj]\n",
    "            jj += 1\n",
    "        elif ii != mid and jj == end:\n",
    "            arr[kk] = copy[ii]\n",
    "            ii += 1"
   ]
  },
  {
   "cell_type": "code",
   "execution_count": 38,
   "metadata": {},
   "outputs": [],
   "source": [
    "def merge_sort(arr: list, start: int, end: int):\n",
    "    if end - start == 1:\n",
    "        return\n",
    "    mid = (start + end) // 2 # 分成两部分\n",
    "    merge_sort(arr, start, mid) # 对arr[start: mid]进行排序\n",
    "    merge_sort(arr, mid, end) # 对arr[mid: end]进行排序\n",
    "    merge(arr, start, mid, end) # 合并已经排好序的两部分"
   ]
  },
  {
   "cell_type": "code",
   "execution_count": 39,
   "metadata": {},
   "outputs": [
    {
     "output_type": "stream",
     "name": "stdout",
     "text": [
      "output: [0, 1, 1, 2, 5, 7, 9, 9, 14, 15, 16, 16, 18, 18, 19, 19, 19, 20, 23, 24, 26, 27, 28, 30, 31, 32, 33, 33, 34, 34, 35, 36, 38, 41, 41, 42, 43, 46, 46, 46, 47, 48, 50, 50, 51, 52, 53, 53, 54, 58, 58, 58, 58, 58, 60, 60, 61, 62, 63, 64, 67, 67, 68, 68, 68, 69, 70, 71, 72, 72, 73, 74, 74, 79, 80, 82, 84, 84, 84, 85, 85, 86, 86, 87, 88, 89, 90, 90, 90, 91, 91, 93, 94, 95, 96, 97, 98, 98, 99, 99]\n"
     ]
    }
   ],
   "source": [
    "merge_sort(arr, 0, len(arr))\n",
    "\n",
    "print(f'output: {arr}')"
   ]
  },
  {
   "cell_type": "code",
   "execution_count": null,
   "metadata": {},
   "outputs": [],
   "source": []
  }
 ]
}