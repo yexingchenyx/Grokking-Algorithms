{
    "cells": [
        {
            "cell_type": "code",
            "execution_count": 33,
            "source": [
                "s_col = 'hish'\n",
                "s_row = 'fish'"
            ],
            "outputs": [],
            "metadata": {}
        },
        {
            "cell_type": "code",
            "execution_count": 34,
            "source": [
                "grid = [[0 for jj in range(len(s_col))] for ii in range(len(s_row))]"
            ],
            "outputs": [],
            "metadata": {}
        },
        {
            "cell_type": "code",
            "execution_count": 35,
            "source": [
                "for ii in range(len(s_row)):\n",
                "    for jj in range(len(s_col)):\n",
                "        if s_row[ii] == s_col[jj]:\n",
                "            if ii == 0 or jj == 0:\n",
                "                grid[ii][jj] = 1\n",
                "            else:\n",
                "                grid[ii][jj] = grid[ii-1][jj-1] + 1\n",
                "        else:\n",
                "            grid[ii][jj] = 0"
            ],
            "outputs": [],
            "metadata": {}
        },
        {
            "cell_type": "code",
            "execution_count": 36,
            "source": [
                "row = -1\n",
                "col = -1\n",
                "length = -1\n",
                "for ii in range(len(s_row)):\n",
                "    for jj in range(len(s_col)):\n",
                "        if grid[ii][jj] > length:\n",
                "            row = ii\n",
                "            col = jj\n",
                "            length = grid[ii][jj]\n"
            ],
            "outputs": [],
            "metadata": {}
        },
        {
            "cell_type": "code",
            "execution_count": 37,
            "source": [
                "sub = s_row[row+1-length: row+1]\n",
                "print(f'longest common substring of \\'{s_col}\\' with \\'{s_row}\\':\\n\\'{sub}\\'')"
            ],
            "outputs": [
                {
                    "output_type": "stream",
                    "name": "stdout",
                    "text": [
                        "longest common substring of 'hish' with 'fish':\n",
                        "'ish'\n"
                    ]
                }
            ],
            "metadata": {}
        },
        {
            "cell_type": "code",
            "execution_count": null,
            "source": [],
            "outputs": [],
            "metadata": {}
        }
    ],
    "metadata": {
        "orig_nbformat": 4,
        "language_info": {
            "name": "python",
            "version": "3.8.8",
            "mimetype": "text/x-python",
            "codemirror_mode": {
                "name": "ipython",
                "version": 3
            },
            "pygments_lexer": "ipython3",
            "nbconvert_exporter": "python",
            "file_extension": ".py"
        },
        "kernelspec": {
            "name": "python3",
            "display_name": "Python 3.8.8 64-bit ('base': conda)"
        },
        "interpreter": {
            "hash": "b64057e63add2b45b1ffc7eab9b09c8889b419c878e2fdf0d08f837f0fc857a7"
        }
    },
    "nbformat": 4,
    "nbformat_minor": 2
}