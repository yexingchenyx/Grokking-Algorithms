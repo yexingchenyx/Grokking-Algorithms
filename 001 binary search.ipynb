{
 "metadata": {
  "language_info": {
   "codemirror_mode": {
    "name": "ipython",
    "version": 3
   },
   "file_extension": ".py",
   "mimetype": "text/x-python",
   "name": "python",
   "nbconvert_exporter": "python",
   "pygments_lexer": "ipython3",
   "version": "3.8.8"
  },
  "orig_nbformat": 2,
  "kernelspec": {
   "name": "python388jvsc74a57bd0b64057e63add2b45b1ffc7eab9b09c8889b419c878e2fdf0d08f837f0fc857a7",
   "display_name": "Python 3.8.8 64-bit ('anaconda3': conda)"
  },
  "metadata": {
   "interpreter": {
    "hash": "b64057e63add2b45b1ffc7eab9b09c8889b419c878e2fdf0d08f837f0fc857a7"
   }
  }
 },
 "nbformat": 4,
 "nbformat_minor": 2,
 "cells": [
  {
   "cell_type": "code",
   "execution_count": 10,
   "metadata": {},
   "outputs": [
    {
     "output_type": "stream",
     "name": "stdout",
     "text": [
      "searching '15' in [ 1  2  2  2  3  4  4  7  7  9 11 11 11 12 12 15 18 18 21 22 22 24 25 26\n 29 29 31 31 31 33 33 34 36 37 38 38 39 40 40 40 42 43 43 43 44 46 46 47\n 48 50 51 51 52 52 53 54 55 55 56 56 57 58 58 59 59 59 59 61 62 62 63 65\n 65 69 69 72 72 72 75 75 78 80 82 82 85 85 86 86 88 88 89 91 91 92 93 95\n 96 97 99 99]\n"
     ]
    }
   ],
   "source": [
    "import numpy as np\n",
    "\n",
    "arr = np.sort(np.random.randint(0, 100, 100))\n",
    "item = 15\n",
    "\n",
    "print(f'searching \\'{item}\\' in {arr}')"
   ]
  },
  {
   "cell_type": "code",
   "execution_count": 11,
   "metadata": {},
   "outputs": [],
   "source": [
    "def binary_search(arr, item) -> int:\n",
    "    low_idx = 0\n",
    "    high_idx = len(arr) - 1\n",
    "    while low_idx <= high_idx:\n",
    "        mid_idx = (low_idx + high_idx) // 2\n",
    "        guess = arr[mid_idx]\n",
    "        if guess == item:\n",
    "            return mid_idx\n",
    "        elif guess < item:\n",
    "            low_idx = mid_idx + 1\n",
    "        else:\n",
    "            high_idx = mid_idx - 1\n",
    "    return None"
   ]
  },
  {
   "cell_type": "code",
   "execution_count": 12,
   "metadata": {},
   "outputs": [
    {
     "output_type": "stream",
     "name": "stdout",
     "text": [
      "arr[15]=15\n"
     ]
    }
   ],
   "source": [
    "idx = binary_search(arr, item)\n",
    "if idx is None:\n",
    "    print(f'not find item: {item}')\n",
    "else:\n",
    "    print(f'arr[{idx}]={arr[idx]}')"
   ]
  },
  {
   "cell_type": "code",
   "execution_count": null,
   "metadata": {},
   "outputs": [],
   "source": []
  }
 ]
}